{
 "cells": [
  {
   "cell_type": "code",
   "execution_count": null,
   "id": "752bf89e",
   "metadata": {},
   "outputs": [],
   "source": [
    "from typing import List\n",
    "requirement_list:List[str] = []\n",
    "try:\n",
    "        # Open and read the requirements.txt file\n",
    "        with open('requirements.txt', 'r') as file:\n",
    "            # Read lines from the file\n",
    "            lines = file.readlines()\n",
    "            # Process each line\n",
    "            for line in lines:\n",
    "                # Strip whitespace and newline characters\n",
    "                requirement = line.strip()\n",
    "                # Ignore empty lines and -e .\n",
    "                if requirement and requirement != '-e .':\n",
    "                    requirement_list.append(requirement)\n",
    "except FileNotFoundError:\n",
    "    print(\"requirements.txt file not found.\")\n",
    "requirement_list\n"
   ]
  }
 ],
 "metadata": {
  "kernelspec": {
   "display_name": "env",
   "language": "python",
   "name": "python3"
  },
  "language_info": {
   "name": "python",
   "version": "3.12.11"
  }
 },
 "nbformat": 4,
 "nbformat_minor": 5
}

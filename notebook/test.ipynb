{
 "cells": [
  {
   "cell_type": "code",
   "execution_count": null,
   "id": "752bf89e",
   "metadata": {},
   "outputs": [],
   "source": [
    "from typing import List\n",
    "requirement_list:List[str] = []\n",
    "try:\n",
    "        # Open and read the requirements.txt file\n",
    "        with open('requirements.txt', 'r') as file:\n",
    "            # Read lines from the file\n",
    "            lines = file.readlines()\n",
    "            # Process each line\n",
    "            for line in lines:\n",
    "                # Strip whitespace and newline characters\n",
    "                requirement = line.strip()\n",
    "                # Ignore empty lines and -e .\n",
    "                if requirement and requirement != '-e .':\n",
    "                    requirement_list.append(requirement)\n",
    "except FileNotFoundError:\n",
    "    print(\"requirements.txt file not found.\")\n",
    "requirement_list\n"
   ]
  },
  {
   "cell_type": "code",
   "execution_count": 3,
   "id": "fbc065ff",
   "metadata": {},
   "outputs": [
    {
     "data": {
      "text/plain": [
       "AIMessage(content='<think>\\n\\n</think>\\n\\nThe capital of France is Paris.', additional_kwargs={}, response_metadata={'token_usage': {'completion_tokens': 12, 'prompt_tokens': 10, 'total_tokens': 22, 'completion_time': 0.052620027, 'prompt_time': 0.000454163, 'queue_time': 0.053305486, 'total_time': 0.05307419}, 'model_name': 'deepseek-r1-distill-llama-70b', 'system_fingerprint': 'fp_1bbe7845ec', 'finish_reason': 'stop', 'logprobs': None}, id='run--2b633996-2dd8-443c-86b9-db23026ea255-0', usage_metadata={'input_tokens': 10, 'output_tokens': 12, 'total_tokens': 22})"
      ]
     },
     "execution_count": 3,
     "metadata": {},
     "output_type": "execute_result"
    }
   ],
   "source": [
    "import os \n",
    "from dotenv import load_dotenv\n",
    "from langchain_groq import ChatGroq\n",
    "key = os.getenv('GROQ_API_KEY')\n",
    "llm = ChatGroq(model = \"deepseek-r1-distill-llama-70b\", api_key=key)\n",
    "\n",
    "output = llm.invoke(\"What is the capital of France?\")\n",
    "output\n"
   ]
  },
  {
   "cell_type": "code",
   "execution_count": 1,
   "id": "35e1226c",
   "metadata": {},
   "outputs": [
    {
     "name": "stdout",
     "output_type": "stream",
     "text": [
      "\n",
      "Date: \n",
      "- Condition: \n",
      "- Max Temperature: °C\n",
      "- Min Temperature: °C\n",
      "- Average Temperature: °C\n",
      "- Max Wind Speed: kph\n",
      "- Chance of Rain: %\n",
      "- Humidity: %\n",
      "\n"
     ]
    }
   ],
   "source": [
    "yo = f\"\"\"\n",
    "Date: \n",
    "- Condition: \n",
    "- Max Temperature: °C\n",
    "- Min Temperature: °C\n",
    "- Average Temperature: °C\n",
    "- Max Wind Speed: kph\n",
    "- Chance of Rain: %\n",
    "- Humidity: %\n",
    "\"\"\"\n",
    "print(yo)"
   ]
  },
  {
   "cell_type": "code",
   "execution_count": 4,
   "id": "701343a8",
   "metadata": {},
   "outputs": [
    {
     "name": "stdout",
     "output_type": "stream",
     "text": [
      "{'message': 'Validation error', 'errors': {'currencies': ['The selected currencies is invalid.']}, 'info': 'For more information, see documentation: https://freecurrencyapi.com/docs/status-codes#_422'}\n"
     ]
    }
   ],
   "source": [
    "import os \n",
    "from dotenv import load_dotenv\n",
    "import requests\n",
    "load_dotenv()\n",
    "\n",
    "key = os.getenv('EXCHANGE_RATE_API_KEY')\n",
    "params = {\n",
    "    'apikey': key,\n",
    "    'base_currency': 'USD',\n",
    "    'currencies': 'BDT',\n",
    "}\n",
    "rate = requests.get(f\"https://api.freecurrencyapi.com/v1/latest\", params=params)\n",
    "print(rate.json())"
   ]
  },
  {
   "cell_type": "code",
   "execution_count": null,
   "id": "f6e46ab6",
   "metadata": {},
   "outputs": [
    {
     "name": "stdout",
     "output_type": "stream",
     "text": [
      "{'data': {'EUR': {'symbol': '€', 'name': 'Euro', 'symbol_native': '€', 'decimal_digits': 2, 'rounding': 0, 'code': 'EUR', 'name_plural': 'Euros', 'type': 'fiat'}, 'JPY': {'symbol': '¥', 'name': 'Japanese Yen', 'symbol_native': '￥', 'decimal_digits': 0, 'rounding': 0, 'code': 'JPY', 'name_plural': 'Japanese yen', 'type': 'fiat'}, 'GBP': {'symbol': '£', 'name': 'British Pound Sterling', 'symbol_native': '£', 'decimal_digits': 2, 'rounding': 0, 'code': 'GBP', 'name_plural': 'British pounds sterling', 'type': 'fiat'}, 'AUD': {'symbol': 'AU$', 'name': 'Australian Dollar', 'symbol_native': '$', 'decimal_digits': 2, 'rounding': 0, 'code': 'AUD', 'name_plural': 'Australian dollars', 'type': 'fiat'}, 'CAD': {'symbol': 'CA$', 'name': 'Canadian Dollar', 'symbol_native': '$', 'decimal_digits': 2, 'rounding': 0, 'code': 'CAD', 'name_plural': 'Canadian dollars', 'type': 'fiat'}, 'INR': {'symbol': 'Rs', 'name': 'Indian Rupee', 'symbol_native': 'টকা', 'decimal_digits': 2, 'rounding': 0, 'code': 'INR', 'name_plural': 'Indian rupees', 'type': 'fiat'}}}\n"
     ]
    }
   ],
   "source": [
    "import os \n",
    "from dotenv import load_dotenv\n",
    "import requests\n",
    "load_dotenv()\n",
    "\n",
    "key = os.getenv('EXCHANGE_RATE_API_KEY')\n",
    "params = {\n",
    "    'apikey': key,\n",
    "    'base_currency': 'USD',\n",
    "    'currencies': 'EUR,GBP,INR,JPY,CAD,AUD',\n",
    "}\n",
    "rate = requests.get(f\"https://api.freecurrencyapi.com/v1/currencies\", params=params)\n",
    "print(rate.json())"
   ]
  },
  {
   "cell_type": "code",
   "execution_count": 2,
   "id": "ae209d1e",
   "metadata": {},
   "outputs": [
    {
     "name": "stdout",
     "output_type": "stream",
     "text": [
      "https://v6.exchangerate-api.com/v6/b5d814aef22dc97f5ec2e4e5/latest/USD\n",
      "{'result': 'success', 'documentation': 'https://www.exchangerate-api.com/docs', 'terms_of_use': 'https://www.exchangerate-api.com/terms', 'time_last_update_unix': 1752105602, 'time_last_update_utc': 'Thu, 10 Jul 2025 00:00:02 +0000', 'time_next_update_unix': 1752192002, 'time_next_update_utc': 'Fri, 11 Jul 2025 00:00:02 +0000', 'base_code': 'USD', 'conversion_rates': {'USD': 1, 'AED': 3.6725, 'AFN': 69.183, 'ALL': 83.6627, 'AMD': 384.0411, 'ANG': 1.79, 'AOA': 919.5729, 'ARS': 1258.0, 'AUD': 1.5308, 'AWG': 1.79, 'AZN': 1.7009, 'BAM': 1.6692, 'BBD': 2.0, 'BDT': 121.9651, 'BGN': 1.6695, 'BHD': 0.376, 'BIF': 2973.9404, 'BMD': 1.0, 'BND': 1.2806, 'BOB': 6.9236, 'BRL': 5.4611, 'BSD': 1.0, 'BTN': 85.7263, 'BWP': 13.3723, 'BYN': 3.1897, 'BZD': 2.0, 'CAD': 1.3689, 'CDF': 2893.4569, 'CHF': 0.7949, 'CLP': 941.3841, 'CNY': 7.1829, 'COP': 4055.0149, 'CRC': 504.9842, 'CUP': 24.0, 'CVE': 94.1037, 'CZK': 21.0377, 'DJF': 177.721, 'DKK': 6.3659, 'DOP': 59.98, 'DZD': 129.788, 'EGP': 49.6182, 'ERN': 15.0, 'ETB': 137.5551, 'EUR': 0.8534, 'FJD': 2.2503, 'FKP': 0.736, 'FOK': 6.3662, 'GBP': 0.736, 'GEL': 2.7167, 'GGP': 0.736, 'GHS': 10.6314, 'GIP': 0.736, 'GMD': 72.7396, 'GNF': 8682.7498, 'GTQ': 7.6885, 'GYD': 209.1568, 'HKD': 7.8502, 'HNL': 26.1719, 'HRK': 6.4302, 'HTG': 131.1349, 'HUF': 341.4745, 'IDR': 16263.743, 'ILS': 3.3221, 'IMP': 0.736, 'INR': 85.7264, 'IQD': 1310.1476, 'IRR': 42334.5188, 'ISK': 122.5678, 'JEP': 0.736, 'JMD': 159.8444, 'JOD': 0.709, 'JPY': 146.3636, 'KES': 129.335, 'KGS': 87.4003, 'KHR': 4015.4022, 'KID': 1.5307, 'KMF': 419.861, 'KRW': 1374.4016, 'KWD': 0.3055, 'KYD': 0.8333, 'KZT': 518.843, 'LAK': 21597.6295, 'LBP': 89500.0, 'LKR': 300.7053, 'LRD': 200.4718, 'LSL': 17.8114, 'LYD': 5.4022, 'MAD': 9.0078, 'MDL': 16.9167, 'MGA': 4415.7536, 'MKD': 52.5961, 'MMK': 2102.3891, 'MNT': 3608.1854, 'MOP': 8.0857, 'MRU': 39.931, 'MUR': 45.197, 'MVR': 15.4601, 'MWK': 1739.7796, 'MXN': 18.613, 'MYR': 4.2509, 'MZN': 63.6983, 'NAD': 17.8114, 'NGN': 1530.3732, 'NIO': 36.8156, 'NOK': 10.0909, 'NPR': 137.162, 'NZD': 1.6674, 'OMR': 0.3845, 'PAB': 1.0, 'PEN': 3.5503, 'PGK': 4.18, 'PHP': 56.5894, 'PKR': 284.0285, 'PLN': 3.6221, 'PYG': 7840.5387, 'QAR': 3.64, 'RON': 4.338, 'RSD': 100.0988, 'RUB': 78.2208, 'RWF': 1446.6251, 'SAR': 3.75, 'SBD': 8.2609, 'SCR': 14.5686, 'SDG': 544.224, 'SEK': 9.5152, 'SGD': 1.2804, 'SHP': 0.736, 'SLE': 22.4531, 'SLL': 22453.1339, 'SOS': 571.5225, 'SRD': 37.3735, 'SSP': 4533.1783, 'STN': 20.9091, 'SYP': 12956.374, 'SZL': 17.8114, 'THB': 32.6627, 'TJS': 9.7, 'TMT': 3.4991, 'TND': 2.8957, 'TOP': 2.377, 'TRY': 40.0827, 'TTD': 6.7793, 'TVD': 1.5307, 'TWD': 29.1281, 'TZS': 2613.0382, 'UAH': 41.8051, 'UGX': 3577.5163, 'UYU': 40.4847, 'UZS': 12692.9291, 'VES': 113.7505, 'VND': 26081.2173, 'VUV': 119.3634, 'WST': 2.733, 'XAF': 559.8146, 'XCD': 2.7, 'XCG': 1.79, 'XDR': 0.7294, 'XOF': 559.8146, 'XPF': 101.8417, 'YER': 242.1688, 'ZAR': 17.8128, 'ZMW': 24.4336, 'ZWL': 26.8905}}\n"
     ]
    }
   ],
   "source": [
    "import os \n",
    "from dotenv import load_dotenv\n",
    "import requests\n",
    "load_dotenv()\n",
    "\n",
    "key = os.getenv('EXCHANGE_RATE_API_KEY')\n",
    "url = f\"https://v6.exchangerate-api.com/v6/{key}/latest/USD\"\n",
    "print(url)\n",
    "response = requests.get(url)\n",
    "response_json = response.json()\n",
    "print(response_json)"
   ]
  },
  {
   "cell_type": "code",
   "execution_count": null,
   "id": "aab8d9c0",
   "metadata": {},
   "outputs": [],
   "source": []
  }
 ],
 "metadata": {
  "kernelspec": {
   "display_name": "env",
   "language": "python",
   "name": "python3"
  },
  "language_info": {
   "codemirror_mode": {
    "name": "ipython",
    "version": 3
   },
   "file_extension": ".py",
   "mimetype": "text/x-python",
   "name": "python",
   "nbconvert_exporter": "python",
   "pygments_lexer": "ipython3",
   "version": "3.12.11"
  }
 },
 "nbformat": 4,
 "nbformat_minor": 5
}
